{
 "cells": [
  {
   "cell_type": "code",
   "execution_count": 15,
   "metadata": {},
   "outputs": [
    {
     "name": "stdout",
     "output_type": "stream",
     "text": [
      "[ 41 161 150]\n"
     ]
    }
   ],
   "source": [
    "import cv2\n",
    "import numpy as np\n",
    "\n",
    "img = cv2.imread('12003.jpg') #img = 3D array, with [row, col, b/g/r channel]\n",
    "px = img[100, 100] #gets [b g r] for pixel (100,100)\n",
    "print (px)"
   ]
  },
  {
   "cell_type": "code",
   "execution_count": 16,
   "metadata": {},
   "outputs": [
    {
     "data": {
      "text/plain": [
       "True"
      ]
     },
     "execution_count": 16,
     "metadata": {},
     "output_type": "execute_result"
    }
   ],
   "source": [
    "blur = cv2.bilateralFilter(img, 9, 75, 75) #blurs the image and removes some noise; may be helpful as a preliminary operation\n",
    "cv2.imwrite(\"output/blur.jpg\", blur)\n",
    "cv2.imwrite(\"output/output.jpg\", img)"
   ]
  },
  {
   "cell_type": "code",
   "execution_count": 17,
   "metadata": {},
   "outputs": [
    {
     "data": {
      "text/plain": [
       "True"
      ]
     },
     "execution_count": 17,
     "metadata": {},
     "output_type": "execute_result"
    }
   ],
   "source": [
    "kernel = np.array([[0,1,0],[1,-4,1],[0,1,0]]) #kernel must be a numpy array for filter2D\n",
    "filtered_img = cv2.filter2D(img, -1, kernel)\n",
    "cv2.imwrite(\"output/filt_img.jpg\", filtered_img)\n",
    "\n",
    "filtered_blur = cv2.filter2D(blur, -1, kernel)\n",
    "cv2.imwrite(\"output/filt_blur.jpg\", filtered_blur)"
   ]
  },
  {
   "cell_type": "code",
   "execution_count": 18,
   "metadata": {},
   "outputs": [
    {
     "data": {
      "text/plain": [
       "True"
      ]
     },
     "execution_count": 18,
     "metadata": {},
     "output_type": "execute_result"
    }
   ],
   "source": [
    "bwimg = cv2.cvtColor(filtered_blur, cv2.COLOR_RGB2GRAY)\n",
    "ret, bw_binary = cv2.threshold(bwimg, 5, 255, cv2.THRESH_BINARY_INV)\n",
    "cv2.imshow(\"binary\", bw_binary)\n",
    "cv2.imwrite(\"output/binary.jpg\", bw_binary)"
   ]
  },
  {
   "cell_type": "code",
   "execution_count": 19,
   "metadata": {
    "collapsed": true
   },
   "outputs": [],
   "source": [
    "#cv2.imshow(\"this is img filtered\", filtered_img)\n",
    "#cv2.imshow(\"this is blur filtered\", filtered_blur)\n",
    "cv2.waitKey(0)\n",
    "cv2.destroyAllWindows()"
   ]
  }
 ],
 "metadata": {
  "kernelspec": {
   "display_name": "Python 3",
   "language": "python",
   "name": "python3"
  },
  "language_info": {
   "codemirror_mode": {
    "name": "ipython",
    "version": 3
   },
   "file_extension": ".py",
   "mimetype": "text/x-python",
   "name": "python",
   "nbconvert_exporter": "python",
   "pygments_lexer": "ipython3",
   "version": "3.6.3"
  }
 },
 "nbformat": 4,
 "nbformat_minor": 2
}
