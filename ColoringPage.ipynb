{
 "cells": [
  {
   "cell_type": "code",
   "execution_count": 1129,
   "metadata": {},
   "outputs": [],
   "source": [
    "import cv2\n",
    "import numpy as np\n",
    "\n",
    "all_outputs = True\n",
    "input_file = '12003-2.jpg'\n",
    "img = cv2.imread(input_file) #img = 3D array, with [row, col, b/g/r channel]"
   ]
  },
  {
   "cell_type": "code",
   "execution_count": 1130,
   "metadata": {},
   "outputs": [],
   "source": [
    "# Blur the image, remove noise\n",
    "img_blur = cv2.bilateralFilter(img, 30, 160, 160)"
   ]
  },
  {
   "cell_type": "code",
   "execution_count": 1131,
   "metadata": {},
   "outputs": [],
   "source": [
    "kernel = np.array([[-1,-1,-1],[-1,8,-1],[-1,-1,-1]])\n",
    "\n",
    "# Detect edges\n",
    "img_filtered = cv2.filter2D(img_blur, -1, kernel)\n",
    "img_filtered = cv2.cvtColor(img_filtered, cv2.COLOR_BGR2GRAY)"
   ]
  },
  {
   "cell_type": "code",
   "execution_count": 1132,
   "metadata": {},
   "outputs": [],
   "source": [
    "img_hsv = cv2.cvtColor(img_blur, cv2.COLOR_BGR2HSV)\n",
    "img_hue, img_sat, img_val = cv2.split(img_hsv)\n",
    "\n",
    "img_val_filtered = cv2.filter2D(img_val, -1, kernel)\n",
    "img_hue_filtered = cv2.filter2D(img_hue, -1, kernel)\n",
    "img_sat_filtered = cv2.filter2D(img_sat, -1, kernel)\n",
    "\n",
    "# Combine multiple results to capture more edges\n",
    "img_combined = img_val_filtered + img_hue_filtered + img_filtered + img_sat_filtered\n",
    "\n",
    "# Reduce noise\n",
    "k = cv2.getStructuringElement(cv2.MORPH_ELLIPSE, (5,5))\n",
    "img_closed = cv2.morphologyEx(img_combined, cv2.MORPH_CLOSE, k, iterations=2)\n",
    "\n",
    "# Invert to be black on white and increase contrast\n",
    "img_final = cv2.bitwise_not(img_closed)\n",
    "img_final_manual = img_final.copy()\n",
    "for row in img_final_manual:\n",
    "    for i, x in enumerate(row):\n",
    "        if x > 200:\n",
    "            row[i] = 255\n",
    "        elif x <= 200 and x > 100:\n",
    "            row[i] -= 10\n",
    "cv2.imwrite(\"output/final.jpg\",img_final)\n",
    "cv2.imwrite(\"output/final_manual.jpg\",img_final_manual)\n",
    "\n",
    "# Write all steps in the middle\n",
    "if all_outputs:\n",
    "    cv2.imwrite(\"output/img_blur.jpg\", img_blur)\n",
    "    cv2.imwrite(\"output/img_sat.jpg\", img_sat_filtered)\n",
    "    cv2.imwrite(\"output/img_hue.jpg\", img_hue_filtered)\n",
    "    cv2.imwrite(\"output/img_val.jpg\", img_val_filtered)\n",
    "    cv2.imwrite(\"output/img_combined.jpg\", img_combined)\n",
    "    cv2.imwrite(\"output/img_closed.jpg\", img_closed)"
   ]
  },
  {
   "cell_type": "code",
   "execution_count": 1133,
   "metadata": {},
   "outputs": [],
   "source": [
    "#cv2.imshow(\"Final Output\", img_final)\n",
    "#cv2.waitKey(0)\n",
    "#cv2.destroyAllWindows()"
   ]
  }
 ],
 "metadata": {
  "kernelspec": {
   "display_name": "Python 3",
   "language": "python",
   "name": "python3"
  },
  "language_info": {
   "codemirror_mode": {
    "name": "ipython",
    "version": 3
   },
   "file_extension": ".py",
   "mimetype": "text/x-python",
   "name": "python",
   "nbconvert_exporter": "python",
   "pygments_lexer": "ipython3",
   "version": "3.6.4"
  }
 },
 "nbformat": 4,
 "nbformat_minor": 2
}
